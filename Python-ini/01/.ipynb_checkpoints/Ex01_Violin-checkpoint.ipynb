{
 "cells": [
  {
   "cell_type": "code",
   "execution_count": null,
   "id": "e35d6656",
   "metadata": {},
   "outputs": [],
   "source": [
    "# Ex 01 - Violin Plot\n",
    " \n",
    "# Carregando dataset\n",
    "import pandas as pd\n",
    "dataset = pd.read_csv('../Data/1-Usuarios/Usuarios.csv')\n",
    "\n",
    "# Grafico\n",
    "import matplotlib.pyplot as plt\n",
    "import seaborn as sns\n",
    "sns.violinplot(x = 'salario', data = dataset)\n",
    "plt.show"
   ]
  },
  {
   "cell_type": "code",
   "execution_count": null,
   "id": "ab4ac086",
   "metadata": {},
   "outputs": [],
   "source": []
  }
 ],
 "metadata": {
  "kernelspec": {
   "display_name": "Python 3 (ipykernel)",
   "language": "python",
   "name": "python3"
  },
  "language_info": {
   "codemirror_mode": {
    "name": "ipython",
    "version": 3
   },
   "file_extension": ".py",
   "mimetype": "text/x-python",
   "name": "python",
   "nbconvert_exporter": "python",
   "pygments_lexer": "ipython3",
   "version": "3.9.12"
  }
 },
 "nbformat": 4,
 "nbformat_minor": 5
}
