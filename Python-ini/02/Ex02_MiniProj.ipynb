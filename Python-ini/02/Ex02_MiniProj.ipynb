{
 "cells": [
  {
   "cell_type": "code",
   "execution_count": null,
   "id": "fb222293",
   "metadata": {},
   "outputs": [],
   "source": [
    "#Versão Python\n",
    "from platform import python_version\n",
    "print('Versão Python Instalada:', python_version())"
   ]
  },
  {
   "cell_type": "code",
   "execution_count": null,
   "id": "9085696d",
   "metadata": {},
   "outputs": [],
   "source": [
    "#Imports\n",
    "import numpy as np\n",
    "import pandas as pd\n",
    "import matplotlib\n",
    "import matplotlib.pyplot as plt\n",
    "import seaborn as sns"
   ]
  },
  {
   "cell_type": "code",
   "execution_count": null,
   "id": "02b282e0",
   "metadata": {},
   "outputs": [],
   "source": [
    "# Carregamento de dados RH\n",
    "dadosRH = pd.read_csv('../Data/2-MiniProj/dadosRH.csv')"
   ]
  },
  {
   "cell_type": "code",
   "execution_count": null,
   "id": "1a7c73de",
   "metadata": {
    "scrolled": true
   },
   "outputs": [],
   "source": [
    "dadosRH.head()"
   ]
  },
  {
   "cell_type": "code",
   "execution_count": null,
   "id": "8a8463eb",
   "metadata": {},
   "outputs": [],
   "source": [
    "dadosRH.shape"
   ]
  },
  {
   "cell_type": "code",
   "execution_count": null,
   "id": "40d484a7",
   "metadata": {},
   "outputs": [],
   "source": [
    "# Identificando valores nulos \n",
    "dadosRH.isnull().sum()"
   ]
  },
  {
   "cell_type": "code",
   "execution_count": null,
   "id": "0f9afc3d",
   "metadata": {},
   "outputs": [],
   "source": [
    "dadosRH.groupby(['educacao']).count()"
   ]
  },
  {
   "cell_type": "code",
   "execution_count": null,
   "id": "06165341",
   "metadata": {},
   "outputs": [],
   "source": [
    "sns.countplot(dadosRH['educacao'])"
   ]
  },
  {
   "cell_type": "code",
   "execution_count": null,
   "id": "913a6d17",
   "metadata": {},
   "outputs": [],
   "source": [
    "dadosRH.groupby(['aval_ano_anterior']).count()"
   ]
  },
  {
   "cell_type": "code",
   "execution_count": null,
   "id": "e549fed8",
   "metadata": {},
   "outputs": [],
   "source": [
    "sns.countplot(dadosRH['aval_ano_anterior'])"
   ]
  },
  {
   "cell_type": "code",
   "execution_count": null,
   "id": "a384eb18",
   "metadata": {},
   "outputs": [],
   "source": [
    "# Imputando valores onde há nulos\n",
    "dadosRH['educacao'].fillna(dadosRH['educacao'].mode()[0], inplace = True)"
   ]
  },
  {
   "cell_type": "code",
   "execution_count": null,
   "id": "02c3205d",
   "metadata": {},
   "outputs": [],
   "source": [
    "# Imputando valores onde há nulos\n",
    "dadosRH['aval_ano_anterior'].fillna(dadosRH['aval_ano_anterior'].median(), inplace = True)"
   ]
  },
  {
   "cell_type": "code",
   "execution_count": null,
   "id": "cf95cd12",
   "metadata": {},
   "outputs": [],
   "source": [
    "dadosRH.isnull().sum()"
   ]
  },
  {
   "cell_type": "code",
   "execution_count": null,
   "id": "4fa46558",
   "metadata": {},
   "outputs": [],
   "source": [
    "dadosRH.groupby(['promovido']).count()"
   ]
  },
  {
   "cell_type": "code",
   "execution_count": null,
   "id": "e7af8e2b",
   "metadata": {},
   "outputs": [],
   "source": [
    "sns.countplot(dadosRH['promovido'])"
   ]
  },
  {
   "cell_type": "code",
   "execution_count": null,
   "id": "b7e60eed",
   "metadata": {},
   "outputs": [],
   "source": [
    "# Separando as classes de promovido\n",
    "df_classe_majoritaria = dadosRH[dadosRH.promovido==0]\n",
    "df_classe_minoritaria = dadosRH[dadosRH.promovido==1]"
   ]
  },
  {
   "cell_type": "code",
   "execution_count": null,
   "id": "98f1f97f",
   "metadata": {},
   "outputs": [],
   "source": [
    "df_classe_majoritaria.shape"
   ]
  },
  {
   "cell_type": "code",
   "execution_count": null,
   "id": "9ac1984d",
   "metadata": {},
   "outputs": [],
   "source": [
    "df_classe_minoritaria.shape"
   ]
  },
  {
   "cell_type": "code",
   "execution_count": null,
   "id": "cc1dee82",
   "metadata": {},
   "outputs": [],
   "source": [
    "# Upsample da classe minoriataria\n",
    "from sklearn.utils import resample\n",
    "df_classe_minoritaria_upsampled = resample(df_classe_minoritaria,\n",
    "                                          replace = True,\n",
    "                                          n_samples = 50140,\n",
    "                                          random_state = 150)\n",
    "\n"
   ]
  },
  {
   "cell_type": "code",
   "execution_count": null,
   "id": "98038d45",
   "metadata": {},
   "outputs": [],
   "source": [
    "dadosRH_balanceados = pd.concat([df_classe_majoritaria, df_classe_minoritaria_upsampled])"
   ]
  },
  {
   "cell_type": "code",
   "execution_count": null,
   "id": "07ce0855",
   "metadata": {},
   "outputs": [],
   "source": [
    "dadosRH_balanceados.promovido.value_counts()"
   ]
  },
  {
   "cell_type": "code",
   "execution_count": null,
   "id": "2e0872a9",
   "metadata": {},
   "outputs": [],
   "source": [
    "dadosRH_balanceados.info()"
   ]
  },
  {
   "cell_type": "code",
   "execution_count": null,
   "id": "195253cb",
   "metadata": {},
   "outputs": [],
   "source": [
    "sns.countplot(dadosRH_balanceados['promovido'])"
   ]
  },
  {
   "cell_type": "code",
   "execution_count": null,
   "id": "aaa6bf8e",
   "metadata": {},
   "outputs": [],
   "source": [
    "dadosRH_balanceados.to_csv('../Data/2-MiniProj/dadosRH_modificados.csv', encoding = 'utf-8', index = False)"
   ]
  }
 ],
 "metadata": {
  "kernelspec": {
   "display_name": "Python 3 (ipykernel)",
   "language": "python",
   "name": "python3"
  },
  "language_info": {
   "codemirror_mode": {
    "name": "ipython",
    "version": 3
   },
   "file_extension": ".py",
   "mimetype": "text/x-python",
   "name": "python",
   "nbconvert_exporter": "python",
   "pygments_lexer": "ipython3",
   "version": "3.9.12"
  }
 },
 "nbformat": 4,
 "nbformat_minor": 5
}
