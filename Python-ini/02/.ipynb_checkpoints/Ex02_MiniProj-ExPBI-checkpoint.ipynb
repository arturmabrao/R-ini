{
 "cells": [
  {
   "cell_type": "code",
   "execution_count": 1,
   "id": "29c9fca2",
   "metadata": {},
   "outputs": [],
   "source": [
    "#Imports\n",
    "import numpy as np\n",
    "import pandas as pd\n",
    "import matplotlib\n",
    "import matplotlib.pyplot as plt\n",
    "import seaborn as sns"
   ]
  },
  {
   "cell_type": "code",
   "execution_count": 3,
   "id": "4e4704c9",
   "metadata": {},
   "outputs": [],
   "source": [
    "# Carregamento de dados RH\n",
    "dataset = pd.read_csv('../Data/2-MiniProj/dadosRH_modificados.csv')"
   ]
  },
  {
   "cell_type": "markdown",
   "id": "10243385",
   "metadata": {},
   "source": [
    "### Q01 - Qual a correlação entre os atributos dos funcionários?\n"
   ]
  },
  {
   "cell_type": "code",
   "execution_count": null,
   "id": "9862ef00",
   "metadata": {},
   "outputs": [],
   "source": [
    "# Importacoes seriam necessarias dentro do PowerBI\n",
    "# import matplotlib.pyplot as plt\n",
    "# import seaborn as sns\n"
   ]
  }
 ],
 "metadata": {
  "kernelspec": {
   "display_name": "Python 3 (ipykernel)",
   "language": "python",
   "name": "python3"
  },
  "language_info": {
   "codemirror_mode": {
    "name": "ipython",
    "version": 3
   },
   "file_extension": ".py",
   "mimetype": "text/x-python",
   "name": "python",
   "nbconvert_exporter": "python",
   "pygments_lexer": "ipython3",
   "version": "3.9.12"
  }
 },
 "nbformat": 4,
 "nbformat_minor": 5
}
