{
 "cells": [
  {
   "cell_type": "code",
   "execution_count": null,
   "id": "c073a5a3",
   "metadata": {},
   "outputs": [],
   "source": [
    "#Imports\n",
    "import numpy as np\n",
    "import pandas as pd\n",
    "import matplotlib\n",
    "import matplotlib.pyplot as plt\n",
    "import seaborn as sns"
   ]
  },
  {
   "cell_type": "code",
   "execution_count": null,
   "id": "4d6c54b0",
   "metadata": {},
   "outputs": [],
   "source": [
    "# Carregamento de dados RH\n",
    "dataset = pd.read_csv('../Data/2-MiniProj/dadosRH_modificados.csv')"
   ]
  },
  {
   "cell_type": "markdown",
   "id": "ef425685",
   "metadata": {},
   "source": [
    "### Q01 - Qual a correlação entre os atributos dos funcionários?\n"
   ]
  },
  {
   "cell_type": "code",
   "execution_count": null,
   "id": "49ab4256",
   "metadata": {
    "scrolled": true
   },
   "outputs": [],
   "source": [
    "# Importacoes seriam necessarias dentro do PowerBI\n",
    "# import matplotlib.pyplot as plt\n",
    "# import seaborn as sns\n",
    "corr = dataset.corr()\n",
    "sns.heatmap(corr, cmap = \"YlOrRd\", linewidths = 0.1)\n",
    "plt.show()"
   ]
  },
  {
   "cell_type": "markdown",
   "id": "82f884d2",
   "metadata": {},
   "source": [
    "### Q02 - Qual o tempo de servico da maioria dos funcionários?"
   ]
  },
  {
   "cell_type": "code",
   "execution_count": null,
   "id": "c4a25f46",
   "metadata": {},
   "outputs": [],
   "source": [
    "# Importacoes seriam necessarias dentro do PowerBI\n",
    "# import matplotlib.pyplot as plt\n",
    "# import seaborn as sns\n",
    "sns.distplot(dataset['tempo_servico'], color = 'green')\n",
    "plt.title('Distribuicao de Tempo de servico dos funcionarios', fontsize = 15)\n",
    "plt.xlabel('Anos de servico', fontsize = 15)\n",
    "plt.ylabel('Total')\n",
    "plt.show()\n"
   ]
  },
  {
   "cell_type": "markdown",
   "id": "8288b2ad",
   "metadata": {},
   "source": [
    "### Q03 - Qual avaliacao do ano anterior foi mais comum? "
   ]
  },
  {
   "cell_type": "code",
   "execution_count": null,
   "id": "adaf53be",
   "metadata": {},
   "outputs": [],
   "source": [
    "# Importacoes seriam necessarias dentro do PowerBI\n",
    "# import matplotlib.pyplot as plt\n",
    "# import seaborn as sns\n",
    "dataset['aval_ano_anterior'].value_counts().sort_values().plot.bar(color='blue', figsize = (10,5))\n",
    "plt.title('Distribuicao de avaliacoes do ano anterior', fontsize = 15)\n",
    "plt.xlabel('Avaliacoes', fontsize = 15)\n",
    "plt.ylabel('Total')\n",
    "plt.show()"
   ]
  },
  {
   "cell_type": "markdown",
   "id": "b474e1fc",
   "metadata": {},
   "source": [
    "### Q04 - Qual a distribuição de idade entre os funcionarios?"
   ]
  },
  {
   "cell_type": "code",
   "execution_count": null,
   "id": "42967bb3",
   "metadata": {},
   "outputs": [],
   "source": [
    "# Importacoes seriam necessarias dentro do PowerBI\n",
    "# import matplotlib.pyplot as plt\n",
    "# import seaborn as sns\n",
    "sns.distplot(dataset['idade'], color = 'magenta')\n",
    "plt.title('Distribuicao da idade dos funcionarios', fontsize = 15)\n",
    "plt.xlabel('Idade', fontsize = 15)\n",
    "plt.title('Total')\n",
    "plt.show\n"
   ]
  },
  {
   "cell_type": "markdown",
   "id": "c94ce534",
   "metadata": {},
   "source": [
    "### Q05 - Qual a distribuicao da adesao aos treinamentos pelos funcionarios? "
   ]
  },
  {
   "cell_type": "code",
   "execution_count": null,
   "id": "2975c397",
   "metadata": {
    "scrolled": false
   },
   "outputs": [],
   "source": [
    "# Importacoes seriam necessarias dentro do PowerBI\n",
    "# import matplotlib.pyplot as plt\n",
    "# import seaborn as sns\n",
    "sns.violinplot(dataset['numero_treinamentos'], color = 'red')\n",
    "plt.title('Numero de treinamentos feitos pelos funcinarios', fontsize = 15)\n",
    "plt.xlabel('Numero de treinamentos', fontsize = 15)\n",
    "plt.title('Frequencia')\n",
    "plt.show()"
   ]
  },
  {
   "cell_type": "markdown",
   "id": "75f1e014",
   "metadata": {},
   "source": [
    "### Q06 - Qual proporcao de funcionarios por canal de recrutamento?"
   ]
  },
  {
   "cell_type": "code",
   "execution_count": null,
   "id": "86aa13b1",
   "metadata": {},
   "outputs": [],
   "source": [
    "# Importacoes seriam necessarias dentro do PowerBI\n",
    "# import matplotlib.pyplot as plt\n",
    "# import seaborn as sns\n",
    "dataset['canal_recrutamento'].value_counts()\n",
    "\n",
    "fatias = [55375, 42358, 2547]\n",
    "labels = \"Outro\", \"Outsourcing\", \"Indicado\"\n",
    "colors = ['gray', 'lime', 'yellow']\n",
    "explode = [0,0,0]\n",
    "plt.pie(fatias, labels = labels, colors = colors, explode = explode, shadow = True, autopct = \"%.2f%%\")\n",
    "plt.title('Percentual de funcionarios por canal de recrutamento', fontsize = 15)\n",
    "plt.axis('off')\n",
    "#plt.legend()\n",
    "plt.show"
   ]
  },
  {
   "cell_type": "markdown",
   "id": "3634fb7f",
   "metadata": {},
   "source": [
    "### Q07 - Qual a relacao entre a promocao e avaliacao do ano anterior? "
   ]
  },
  {
   "cell_type": "code",
   "execution_count": null,
   "id": "db6076c1",
   "metadata": {},
   "outputs": [],
   "source": [
    "# Importacoes seriam necessarias dentro do PowerBI\n",
    "# import matplotlib.pyplot as plt\n",
    "# import seaborn as sns\n",
    "data = pd.crosstab(dataset['aval_ano_anterior'], dataset['promovido'])\n",
    "data.div(data.sum(1).astype(float), axis = 0).plot(kind = 'bar',\n",
    "                                                 stacked = True,\n",
    "                                                 figsize = (16, 9),\n",
    "                                                 color = ['blue', 'magenta'])\n",
    "\n",
    "plt.title('Avaliacao do ano anterior e Promocao', fontsize = 15)\n",
    "plt.xlabel('Avaliacao ano anterior', fontsize = 15)\n",
    "plt.legend()\n",
    "plt.show()"
   ]
  }
 ],
 "metadata": {
  "kernelspec": {
   "display_name": "Python 3 (ipykernel)",
   "language": "python",
   "name": "python3"
  },
  "language_info": {
   "codemirror_mode": {
    "name": "ipython",
    "version": 3
   },
   "file_extension": ".py",
   "mimetype": "text/x-python",
   "name": "python",
   "nbconvert_exporter": "python",
   "pygments_lexer": "ipython3",
   "version": "3.9.12"
  }
 },
 "nbformat": 4,
 "nbformat_minor": 5
}
